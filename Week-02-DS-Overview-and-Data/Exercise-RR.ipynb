{
 "cells": [
  {
   "cell_type": "markdown",
   "metadata": {},
   "source": [
    "# Fall 2024 Data Science Track: Week 2 - Data Cleaning Exercise"
   ]
  },
  {
   "cell_type": "markdown",
   "metadata": {},
   "source": [
    "## Packages, Packages, Packages!\n",
    "\n",
    "Import *all* the things here! You need the standard stuff: `pandas` and `numpy`.\n",
    "\n",
    "If you got more stuff you want to use, add them here too. 🙂"
   ]
  },
  {
   "cell_type": "code",
   "execution_count": 1,
   "metadata": {},
   "outputs": [],
   "source": [
    "# Import here.\n",
    "import pandas as pd\n",
    "import numpy as np\n"
   ]
  },
  {
   "cell_type": "markdown",
   "metadata": {},
   "source": [
    "## Introduction\n",
    "\n",
    "With the packages out of the way, now you will be working with the following data sets:\n",
    "\n",
    "* `food_coded.csv`: [Food choices](https://www.kaggle.com/datasets/borapajo/food-choices?select=food_coded.csv) from Kaggle\n",
    "* `Ask A Manager Salary Survey 2021 (Responses) - Form Responses 1.tsv`: [Ask A Manager Salary Survey 2021 (Responses)](https://docs.google.com/spreadsheets/d/1IPS5dBSGtwYVbjsfbaMCYIWnOuRmJcbequohNxCyGVw/view?&gid=1625408792) as *Tab Separated Values (.tsv)* from Google Docs\n",
    "\n",
    "Each one poses different challenges. But you’ll―of course―overcome them with what you learned in class! 😉"
   ]
  },
  {
   "cell_type": "markdown",
   "metadata": {},
   "source": [
    "## Food Choices Data Set"
   ]
  },
  {
   "cell_type": "markdown",
   "metadata": {},
   "source": [
    "### Load the Data"
   ]
  },
  {
   "cell_type": "code",
   "execution_count": 2,
   "metadata": {},
   "outputs": [],
   "source": [
    "# Load the Food choices data set into a variable (e.g., df_food).\n",
    "\n",
    "food_data_set_path = 'data/food_coded.csv'\n",
    "\n",
    "df_food = pd.read_csv(food_data_set_path)"
   ]
  },
  {
   "cell_type": "markdown",
   "metadata": {},
   "source": [
    "### Explore the Data"
   ]
  },
  {
   "cell_type": "markdown",
   "metadata": {},
   "source": [
    "How much data did you just load?"
   ]
  },
  {
   "cell_type": "code",
   "execution_count": 6,
   "metadata": {},
   "outputs": [
    {
     "name": "stdout",
     "output_type": "stream",
     "text": [
      "125 61\n"
     ]
    }
   ],
   "source": [
    "# Count by hand. (lol kidding)\n",
    "df1 = df_food.shape[0]\n",
    "df2 = df_food.shape[1]\n",
    "\n",
    "print(df1, df2)\n",
    "\n",
    "#about 125 rows, 61 columns "
   ]
  },
  {
   "cell_type": "markdown",
   "metadata": {},
   "source": [
    "What are the columns and their types in this data set?"
   ]
  },
  {
   "cell_type": "code",
   "execution_count": 8,
   "metadata": {},
   "outputs": [
    {
     "name": "stdout",
     "output_type": "stream",
     "text": [
      "<class 'pandas.core.frame.DataFrame'>\n",
      "RangeIndex: 125 entries, 0 to 124\n",
      "Data columns (total 61 columns):\n",
      " #   Column                        Non-Null Count  Dtype  \n",
      "---  ------                        --------------  -----  \n",
      " 0   GPA                           123 non-null    object \n",
      " 1   Gender                        125 non-null    int64  \n",
      " 2   breakfast                     125 non-null    int64  \n",
      " 3   calories_chicken              125 non-null    int64  \n",
      " 4   calories_day                  106 non-null    float64\n",
      " 5   calories_scone                124 non-null    float64\n",
      " 6   coffee                        125 non-null    int64  \n",
      " 7   comfort_food                  124 non-null    object \n",
      " 8   comfort_food_reasons          123 non-null    object \n",
      " 9   comfort_food_reasons_coded    106 non-null    float64\n",
      " 10  cook                          122 non-null    float64\n",
      " 11  comfort_food_reasons_coded.1  125 non-null    int64  \n",
      " 12  cuisine                       108 non-null    float64\n",
      " 13  diet_current                  124 non-null    object \n",
      " 14  diet_current_coded            125 non-null    int64  \n",
      " 15  drink                         123 non-null    float64\n",
      " 16  eating_changes                122 non-null    object \n",
      " 17  eating_changes_coded          125 non-null    int64  \n",
      " 18  eating_changes_coded1         125 non-null    int64  \n",
      " 19  eating_out                    125 non-null    int64  \n",
      " 20  employment                    116 non-null    float64\n",
      " 21  ethnic_food                   125 non-null    int64  \n",
      " 22  exercise                      112 non-null    float64\n",
      " 23  father_education              124 non-null    float64\n",
      " 24  father_profession             122 non-null    object \n",
      " 25  fav_cuisine                   123 non-null    object \n",
      " 26  fav_cuisine_coded             125 non-null    int64  \n",
      " 27  fav_food                      123 non-null    float64\n",
      " 28  food_childhood                124 non-null    object \n",
      " 29  fries                         125 non-null    int64  \n",
      " 30  fruit_day                     125 non-null    int64  \n",
      " 31  grade_level                   125 non-null    int64  \n",
      " 32  greek_food                    125 non-null    int64  \n",
      " 33  healthy_feeling               125 non-null    int64  \n",
      " 34  healthy_meal                  124 non-null    object \n",
      " 35  ideal_diet                    124 non-null    object \n",
      " 36  ideal_diet_coded              125 non-null    int64  \n",
      " 37  income                        124 non-null    float64\n",
      " 38  indian_food                   125 non-null    int64  \n",
      " 39  italian_food                  125 non-null    int64  \n",
      " 40  life_rewarding                124 non-null    float64\n",
      " 41  marital_status                124 non-null    float64\n",
      " 42  meals_dinner_friend           122 non-null    object \n",
      " 43  mother_education              122 non-null    float64\n",
      " 44  mother_profession             123 non-null    object \n",
      " 45  nutritional_check             125 non-null    int64  \n",
      " 46  on_off_campus                 124 non-null    float64\n",
      " 47  parents_cook                  125 non-null    int64  \n",
      " 48  pay_meal_out                  125 non-null    int64  \n",
      " 49  persian_food                  124 non-null    float64\n",
      " 50  self_perception_weight        124 non-null    float64\n",
      " 51  soup                          124 non-null    float64\n",
      " 52  sports                        123 non-null    float64\n",
      " 53  thai_food                     125 non-null    int64  \n",
      " 54  tortilla_calories             124 non-null    float64\n",
      " 55  turkey_calories               125 non-null    int64  \n",
      " 56  type_sports                   99 non-null     object \n",
      " 57  veggies_day                   125 non-null    int64  \n",
      " 58  vitamins                      125 non-null    int64  \n",
      " 59  waffle_calories               125 non-null    int64  \n",
      " 60  weight                        123 non-null    object \n",
      "dtypes: float64(20), int64(27), object(14)\n",
      "memory usage: 59.7+ KB\n"
     ]
    }
   ],
   "source": [
    "df_food.info()"
   ]
  },
  {
   "cell_type": "markdown",
   "metadata": {},
   "source": [
    "### Clean the Data\n",
    "\n",
    "Perhaps we’d like to know more another day, but the team is really interested in just the relationship between calories (`calories_day`) and weight. …and maybe gender."
   ]
  },
  {
   "cell_type": "markdown",
   "metadata": {},
   "source": [
    "Can you remove the other columns?"
   ]
  },
  {
   "cell_type": "code",
   "execution_count": 21,
   "metadata": {},
   "outputs": [
    {
     "data": {
      "text/html": [
       "<div>\n",
       "<style scoped>\n",
       "    .dataframe tbody tr th:only-of-type {\n",
       "        vertical-align: middle;\n",
       "    }\n",
       "\n",
       "    .dataframe tbody tr th {\n",
       "        vertical-align: top;\n",
       "    }\n",
       "\n",
       "    .dataframe thead th {\n",
       "        text-align: right;\n",
       "    }\n",
       "</style>\n",
       "<table border=\"1\" class=\"dataframe\">\n",
       "  <thead>\n",
       "    <tr style=\"text-align: right;\">\n",
       "      <th></th>\n",
       "      <th>calories_day</th>\n",
       "      <th>weight</th>\n",
       "    </tr>\n",
       "  </thead>\n",
       "  <tbody>\n",
       "    <tr>\n",
       "      <th>0</th>\n",
       "      <td>NaN</td>\n",
       "      <td>187</td>\n",
       "    </tr>\n",
       "    <tr>\n",
       "      <th>1</th>\n",
       "      <td>3.0</td>\n",
       "      <td>155</td>\n",
       "    </tr>\n",
       "    <tr>\n",
       "      <th>2</th>\n",
       "      <td>4.0</td>\n",
       "      <td>I'm not answering this.</td>\n",
       "    </tr>\n",
       "    <tr>\n",
       "      <th>3</th>\n",
       "      <td>3.0</td>\n",
       "      <td>Not sure, 240</td>\n",
       "    </tr>\n",
       "    <tr>\n",
       "      <th>4</th>\n",
       "      <td>2.0</td>\n",
       "      <td>190</td>\n",
       "    </tr>\n",
       "    <tr>\n",
       "      <th>...</th>\n",
       "      <td>...</td>\n",
       "      <td>...</td>\n",
       "    </tr>\n",
       "    <tr>\n",
       "      <th>120</th>\n",
       "      <td>4.0</td>\n",
       "      <td>156</td>\n",
       "    </tr>\n",
       "    <tr>\n",
       "      <th>121</th>\n",
       "      <td>2.0</td>\n",
       "      <td>180</td>\n",
       "    </tr>\n",
       "    <tr>\n",
       "      <th>122</th>\n",
       "      <td>NaN</td>\n",
       "      <td>120</td>\n",
       "    </tr>\n",
       "    <tr>\n",
       "      <th>123</th>\n",
       "      <td>4.0</td>\n",
       "      <td>135</td>\n",
       "    </tr>\n",
       "    <tr>\n",
       "      <th>124</th>\n",
       "      <td>NaN</td>\n",
       "      <td>135</td>\n",
       "    </tr>\n",
       "  </tbody>\n",
       "</table>\n",
       "<p>125 rows × 2 columns</p>\n",
       "</div>"
      ],
      "text/plain": [
       "     calories_day                    weight\n",
       "0             NaN                       187\n",
       "1             3.0                       155\n",
       "2             4.0  I'm not answering this. \n",
       "3             3.0             Not sure, 240\n",
       "4             2.0                       190\n",
       "..            ...                       ...\n",
       "120           4.0                       156\n",
       "121           2.0                       180\n",
       "122           NaN                       120\n",
       "123           4.0                       135\n",
       "124           NaN                       135\n",
       "\n",
       "[125 rows x 2 columns]"
      ]
     },
     "execution_count": 21,
     "metadata": {},
     "output_type": "execute_result"
    }
   ],
   "source": [
    "# Remove ‘em.\n",
    "columns_to_keep = ['Gender', 'calories_day', 'weight']\n",
    "\n",
    "#Here i take the inverse instead of naming every column i wanted to drop however gender is not showing \n",
    "df_food = df_food.drop(df_food.columns.difference(columns_to_keep), axis=1)\n",
    "\n",
    "\n",
    "df_food"
   ]
  },
  {
   "cell_type": "markdown",
   "metadata": {},
   "source": [
    "What about `NaN`s? How many are there?"
   ]
  },
  {
   "cell_type": "code",
   "execution_count": 22,
   "metadata": {},
   "outputs": [
    {
     "name": "stdout",
     "output_type": "stream",
     "text": [
      "calories_day    19\n",
      "weight           2\n",
      "dtype: int64\n"
     ]
    }
   ],
   "source": [
    "# Count ‘em.\n",
    "\n",
    "nan_counts = df_food.isna().sum()\n",
    "\n",
    "# Display the result\n",
    "print(nan_counts)"
   ]
  },
  {
   "cell_type": "markdown",
   "metadata": {},
   "source": [
    "We gotta remove those `NaN`s―the entire row."
   ]
  },
  {
   "cell_type": "code",
   "execution_count": 23,
   "metadata": {},
   "outputs": [
    {
     "data": {
      "text/html": [
       "<div>\n",
       "<style scoped>\n",
       "    .dataframe tbody tr th:only-of-type {\n",
       "        vertical-align: middle;\n",
       "    }\n",
       "\n",
       "    .dataframe tbody tr th {\n",
       "        vertical-align: top;\n",
       "    }\n",
       "\n",
       "    .dataframe thead th {\n",
       "        text-align: right;\n",
       "    }\n",
       "</style>\n",
       "<table border=\"1\" class=\"dataframe\">\n",
       "  <thead>\n",
       "    <tr style=\"text-align: right;\">\n",
       "      <th></th>\n",
       "      <th>calories_day</th>\n",
       "      <th>weight</th>\n",
       "    </tr>\n",
       "  </thead>\n",
       "  <tbody>\n",
       "    <tr>\n",
       "      <th>1</th>\n",
       "      <td>3.0</td>\n",
       "      <td>155</td>\n",
       "    </tr>\n",
       "    <tr>\n",
       "      <th>2</th>\n",
       "      <td>4.0</td>\n",
       "      <td>I'm not answering this.</td>\n",
       "    </tr>\n",
       "    <tr>\n",
       "      <th>3</th>\n",
       "      <td>3.0</td>\n",
       "      <td>Not sure, 240</td>\n",
       "    </tr>\n",
       "    <tr>\n",
       "      <th>4</th>\n",
       "      <td>2.0</td>\n",
       "      <td>190</td>\n",
       "    </tr>\n",
       "    <tr>\n",
       "      <th>5</th>\n",
       "      <td>3.0</td>\n",
       "      <td>190</td>\n",
       "    </tr>\n",
       "    <tr>\n",
       "      <th>...</th>\n",
       "      <td>...</td>\n",
       "      <td>...</td>\n",
       "    </tr>\n",
       "    <tr>\n",
       "      <th>118</th>\n",
       "      <td>3.0</td>\n",
       "      <td>140</td>\n",
       "    </tr>\n",
       "    <tr>\n",
       "      <th>119</th>\n",
       "      <td>3.0</td>\n",
       "      <td>185</td>\n",
       "    </tr>\n",
       "    <tr>\n",
       "      <th>120</th>\n",
       "      <td>4.0</td>\n",
       "      <td>156</td>\n",
       "    </tr>\n",
       "    <tr>\n",
       "      <th>121</th>\n",
       "      <td>2.0</td>\n",
       "      <td>180</td>\n",
       "    </tr>\n",
       "    <tr>\n",
       "      <th>123</th>\n",
       "      <td>4.0</td>\n",
       "      <td>135</td>\n",
       "    </tr>\n",
       "  </tbody>\n",
       "</table>\n",
       "<p>104 rows × 2 columns</p>\n",
       "</div>"
      ],
      "text/plain": [
       "     calories_day                    weight\n",
       "1             3.0                       155\n",
       "2             4.0  I'm not answering this. \n",
       "3             3.0             Not sure, 240\n",
       "4             2.0                       190\n",
       "5             3.0                       190\n",
       "..            ...                       ...\n",
       "118           3.0                       140\n",
       "119           3.0                       185\n",
       "120           4.0                       156\n",
       "121           2.0                       180\n",
       "123           4.0                       135\n",
       "\n",
       "[104 rows x 2 columns]"
      ]
     },
     "execution_count": 23,
     "metadata": {},
     "output_type": "execute_result"
    }
   ],
   "source": [
    "# Drop ‘em.\n",
    "\n",
    "df_dropped = df_food.dropna()\n",
    "df_dropped\n",
    "\n",
    "#Looks like we now have 104 rows "
   ]
  },
  {
   "cell_type": "markdown",
   "metadata": {},
   "source": [
    "But what about the weird non-numeric values in the column obviously meant for numeric data?\n",
    "\n",
    "Notice the data type of that column from when you got the types of all the columns?\n",
    "\n",
    "If only we could convert the column to a numeric type and drop the rows with invalid values. 🤔"
   ]
  },
  {
   "cell_type": "code",
   "execution_count": 24,
   "metadata": {},
   "outputs": [
    {
     "name": "stdout",
     "output_type": "stream",
     "text": [
      "<class 'pandas.core.frame.DataFrame'>\n",
      "RangeIndex: 125 entries, 0 to 124\n",
      "Data columns (total 2 columns):\n",
      " #   Column        Non-Null Count  Dtype  \n",
      "---  ------        --------------  -----  \n",
      " 0   calories_day  106 non-null    float64\n",
      " 1   weight        123 non-null    object \n",
      "dtypes: float64(1), object(1)\n",
      "memory usage: 2.1+ KB\n"
     ]
    }
   ],
   "source": [
    "# Fix that.\n",
    "\n",
    "df_food.info()"
   ]
  },
  {
   "cell_type": "markdown",
   "metadata": {},
   "source": [
    "Now this data seems reasonably clean for our purposes! 😁\n",
    "\n",
    "Let’s save it somewhere to be shipped off to another teammate. 💾"
   ]
  },
  {
   "cell_type": "code",
   "execution_count": 57,
   "metadata": {},
   "outputs": [],
   "source": [
    "# Savey save!\n",
    "\n",
    "output_file_path = 'filtered_df_food.csv'\n",
    "df_food.to_csv(output_file_path, index=False)"
   ]
  },
  {
   "cell_type": "markdown",
   "metadata": {},
   "source": [
    "## Ask a Manager Salary Survey 2021 (Responses) Data Set"
   ]
  },
  {
   "cell_type": "markdown",
   "metadata": {},
   "source": [
    "### Load the Data"
   ]
  },
  {
   "cell_type": "code",
   "execution_count": 29,
   "metadata": {},
   "outputs": [],
   "source": [
    "# Load the Ask A Manager Salary Survey 2021 (Responses) data set into a variable (e.g., df_salary).\n",
    "\n",
    "manager_data_set_path = 'data/ask_a_manager_salary_survey_2021_responses_form_responses_1.tsv'\n",
    "\n",
    "df_salary = pd.read_csv(manager_data_set_path, delimiter='\\t')"
   ]
  },
  {
   "cell_type": "markdown",
   "metadata": {},
   "source": [
    "Was that hard? 🙃"
   ]
  },
  {
   "cell_type": "markdown",
   "metadata": {},
   "source": [
    "#### rename the file to something that is better for all systems.  \n",
    "* No spaces in filename (can use '_')\n",
    "* all lower case"
   ]
  },
  {
   "cell_type": "markdown",
   "metadata": {},
   "source": [
    "### Explore\n",
    "\n",
    "You know the drill."
   ]
  },
  {
   "cell_type": "markdown",
   "metadata": {},
   "source": [
    "How much data did you just load?"
   ]
  },
  {
   "cell_type": "code",
   "execution_count": 32,
   "metadata": {},
   "outputs": [
    {
     "name": "stdout",
     "output_type": "stream",
     "text": [
      "28062 18\n"
     ]
    }
   ],
   "source": [
    "# Count by hand. I’m dead serious.\n",
    "\n",
    "df1 = df_salary.shape[0]\n",
    "df2 = df_salary.shape[1]\n",
    "\n",
    "print(df1, df2)\n",
    "\n",
    "#About 28,000 rows \n"
   ]
  },
  {
   "cell_type": "markdown",
   "metadata": {},
   "source": [
    "What are the columns and their types?"
   ]
  },
  {
   "cell_type": "code",
   "execution_count": 33,
   "metadata": {},
   "outputs": [
    {
     "name": "stdout",
     "output_type": "stream",
     "text": [
      "<class 'pandas.core.frame.DataFrame'>\n",
      "RangeIndex: 28062 entries, 0 to 28061\n",
      "Data columns (total 18 columns):\n",
      " #   Column                                                                                                                                                                                                                                Non-Null Count  Dtype  \n",
      "---  ------                                                                                                                                                                                                                                --------------  -----  \n",
      " 0   Timestamp                                                                                                                                                                                                                             28062 non-null  object \n",
      " 1   How old are you?                                                                                                                                                                                                                      28062 non-null  object \n",
      " 2   What industry do you work in?                                                                                                                                                                                                         27988 non-null  object \n",
      " 3   Job title                                                                                                                                                                                                                             28061 non-null  object \n",
      " 4   If your job title needs additional context, please clarify here:                                                                                                                                                                      7262 non-null   object \n",
      " 5   What is your annual salary? (You'll indicate the currency in a later question. If you are part-time or hourly, please enter an annualized equivalent -- what you would earn if you worked the job 40 hours a week, 52 weeks a year.)  28062 non-null  object \n",
      " 6   How much additional monetary compensation do you get, if any (for example, bonuses or overtime in an average year)? Please only include monetary compensation here, not the value of benefits.                                        20766 non-null  float64\n",
      " 7   Please indicate the currency                                                                                                                                                                                                          28062 non-null  object \n",
      " 8   If \"Other,\" please indicate the currency here:                                                                                                                                                                                        206 non-null    object \n",
      " 9   If your income needs additional context, please provide it here:                                                                                                                                                                      3042 non-null   object \n",
      " 10  What country do you work in?                                                                                                                                                                                                          28062 non-null  object \n",
      " 11  If you're in the U.S., what state do you work in?                                                                                                                                                                                     23039 non-null  object \n",
      " 12  What city do you work in?                                                                                                                                                                                                             27980 non-null  object \n",
      " 13  How many years of professional work experience do you have overall?                                                                                                                                                                   28062 non-null  object \n",
      " 14  How many years of professional work experience do you have in your field?                                                                                                                                                             28062 non-null  object \n",
      " 15  What is your highest level of education completed?                                                                                                                                                                                    27840 non-null  object \n",
      " 16  What is your gender?                                                                                                                                                                                                                  27891 non-null  object \n",
      " 17  What is your race? (Choose all that apply.)                                                                                                                                                                                           27885 non-null  object \n",
      "dtypes: float64(1), object(17)\n",
      "memory usage: 3.9+ MB\n"
     ]
    }
   ],
   "source": [
    "# Show the column names and their types.\n",
    "\n",
    "df_salary.info()"
   ]
  },
  {
   "cell_type": "markdown",
   "metadata": {},
   "source": [
    "Oh… Ugh! Give these columns easier names to work with first. 🙄"
   ]
  },
  {
   "cell_type": "code",
   "execution_count": 37,
   "metadata": {},
   "outputs": [
    {
     "name": "stdout",
     "output_type": "stream",
     "text": [
      "<class 'pandas.core.frame.DataFrame'>\n",
      "RangeIndex: 28062 entries, 0 to 28061\n",
      "Data columns (total 18 columns):\n",
      " #   Column                       Non-Null Count  Dtype  \n",
      "---  ------                       --------------  -----  \n",
      " 0   timestamp                    28062 non-null  object \n",
      " 1   age                          28062 non-null  object \n",
      " 2   industry                     27988 non-null  object \n",
      " 3   title                        28061 non-null  object \n",
      " 4   title_context                7262 non-null   object \n",
      " 5   salary                       28062 non-null  object \n",
      " 6   additional_compensation      20766 non-null  float64\n",
      " 7   currency                     28062 non-null  object \n",
      " 8   other_currency               206 non-null    object \n",
      " 9   salary_context               3042 non-null   object \n",
      " 10  country                      28062 non-null  object \n",
      " 11  state                        23039 non-null  object \n",
      " 12  city                         27980 non-null  object \n",
      " 13  total_yoe                    28062 non-null  object \n",
      " 14  field_yoe                    28062 non-null  object \n",
      " 15  highest_education_completed  27840 non-null  object \n",
      " 16  gender                       27891 non-null  object \n",
      " 17  race                         27885 non-null  object \n",
      "dtypes: float64(1), object(17)\n",
      "memory usage: 3.9+ MB\n",
      "None\n"
     ]
    }
   ],
   "source": [
    "# Rename ‘em.\n",
    "# Non-binding suggestions: timestamp, age, industry, title, title_context, salary, additional_compensation, currency, other_currency, salary_context, country, state, city, total_yoe, field_yoe, highest_education_completed\tgender, race\n",
    "\n",
    "new_column_names = {\n",
    "    'Timestamp': 'timestamp',\n",
    "    'How old are you?': 'age',\n",
    "    'What industry do you work in?': 'industry',\n",
    "    'Job title': 'title',\n",
    "    'If your job title needs additional context, please clarify here:': 'title_context',\n",
    "    'What is your annual salary? (You\\'ll indicate the currency in a later question. If you are part-time or hourly, please enter an annualized equivalent -- what you would earn if you worked the job 40 hours a week, 52 weeks a year.)': 'salary',\n",
    "    'How much additional monetary compensation do you get, if any (for example, bonuses or overtime in an average year)? Please only include monetary compensation here, not the value of benefits.': 'additional_compensation',\n",
    "    'Please indicate the currency': 'currency',\n",
    "    'If \"Other,\" please indicate the currency here: ': 'other_currency',\n",
    "    'If your income needs additional context, please provide it here:': 'salary_context',\n",
    "    'What country do you work in?': 'country',\n",
    "    'If you\\'re in the U.S., what state do you work in?': 'state',\n",
    "    'What city do you work in?': 'city',\n",
    "    'How many years of professional work experience do you have overall?': 'total_yoe',\n",
    "    'How many years of professional work experience do you have in your field?': 'field_yoe',\n",
    "    'What is your highest level of education completed?': 'highest_education_completed',\n",
    "    'What is your gender?': 'gender',\n",
    "    'What is your race? (Choose all that apply.)': 'race'\n",
    "}\n",
    "\n",
    "df_salary.rename(columns=new_column_names, inplace=True)\n",
    "\n",
    "print(df_salary.info())\n"
   ]
  },
  {
   "cell_type": "markdown",
   "metadata": {},
   "source": [
    "It’s a lot, and that should not have been easy. 😏"
   ]
  },
  {
   "cell_type": "markdown",
   "metadata": {},
   "source": [
    "You’re going to have a gander at the computing/tech subset first because thats *your* industry. But first, what value corresponds to that `industry`?"
   ]
  },
  {
   "cell_type": "code",
   "execution_count": 38,
   "metadata": {},
   "outputs": [
    {
     "name": "stdout",
     "output_type": "stream",
     "text": [
      "industry\n",
      "Computing or Tech                          4699\n",
      "Education (Higher Education)               2464\n",
      "Nonprofits                                 2419\n",
      "Health care                                1896\n",
      "Government and Public Administration       1889\n",
      "                                           ... \n",
      "Gaming (Gambling)                             1\n",
      "Regulatory Affairs- nutraceuticals            1\n",
      "Manufacturing : corporate admin support       1\n",
      "Real Estate Investment Support                1\n",
      "Wine & Spirits                                1\n",
      "Name: count, Length: 1219, dtype: int64\n"
     ]
    }
   ],
   "source": [
    "# List the unique industries and a count of their instances.\n",
    "\n",
    "industry_counts = df_salary['industry'].value_counts()\n",
    "\n",
    "print(industry_counts)"
   ]
  },
  {
   "cell_type": "markdown",
   "metadata": {},
   "source": [
    "That value among the top 5 is what you’re looking for innit? Filter out all the rows not in that industry and save it into a new dataframe. "
   ]
  },
  {
   "cell_type": "code",
   "execution_count": 41,
   "metadata": {},
   "outputs": [
    {
     "name": "stdout",
     "output_type": "stream",
     "text": [
      "                timestamp    age           industry  \\\n",
      "1      4/27/2021 11:02:22  25-34  Computing or Tech   \n",
      "8      4/27/2021 11:03:01  45-54  Computing or Tech   \n",
      "43     4/27/2021 11:04:04  25-34  Computing or Tech   \n",
      "44     4/27/2021 11:04:04  25-34  Computing or Tech   \n",
      "46     4/27/2021 11:04:07  35-44  Computing or Tech   \n",
      "...                   ...    ...                ...   \n",
      "28050   7/1/2024 13:38:46  25-34  Computing or Tech   \n",
      "28051   7/1/2024 20:05:58  25-34  Computing or Tech   \n",
      "28052   7/3/2024 14:02:01  25-34  Computing or Tech   \n",
      "28058  7/23/2024 17:51:03  25-34  Computing or Tech   \n",
      "28060  7/26/2024 11:20:45  18-24  Computing or Tech   \n",
      "\n",
      "                                              title  \\\n",
      "1          Change & Internal Communications Manager   \n",
      "8                                   Systems Analyst   \n",
      "43                      Principal Software Engineer   \n",
      "44                             Intelligence Analyst   \n",
      "46                                 Mobile developer   \n",
      "...                                             ...   \n",
      "28050  Research & Systems Technician Data Analytics   \n",
      "28051                          Junior data analyst    \n",
      "28052        Senior Global Public Relations Manager   \n",
      "28058                             Systems Architect   \n",
      "28060                                            IT   \n",
      "\n",
      "                      title_context   salary  additional_compensation  \\\n",
      "1                               NaN   54,600                   4000.0   \n",
      "8      Data developer/ETL Developer  112,000                  10000.0   \n",
      "43                              NaN  187,500                   5000.0   \n",
      "44                              NaN  110,000                  20000.0   \n",
      "46                              NaN  144,600                   2500.0   \n",
      "...                             ...      ...                      ...   \n",
      "28050                           NaN    22000                      NaN   \n",
      "28051                           NaN    35000                  15000.0   \n",
      "28052                           NaN   144000                  15000.0   \n",
      "28058                           NaN   109000                      NaN   \n",
      "28060                           NaN     1700                     10.0   \n",
      "\n",
      "      currency other_currency                 salary_context         country  \\\n",
      "1          GBP            NaN                            NaN  United Kingdom   \n",
      "8          USD            NaN                            NaN              US   \n",
      "43         USD            NaN                            NaN   United States   \n",
      "44         USD            NaN  Around 20,000 a year in stock             USA   \n",
      "46         USD            NaN                            NaN             USA   \n",
      "...        ...            ...                            ...             ...   \n",
      "28050      EUR            NaN                            NaN           Spain   \n",
      "28051      USD            NaN                            NaN             Usa   \n",
      "28052      USD            NaN                            NaN             Usa   \n",
      "28058      USD            NaN                            NaN             USA   \n",
      "28060      USD            NaN                            NaN           Burma   \n",
      "\n",
      "               state                                          city  \\\n",
      "1                NaN                                     Cambridge   \n",
      "8           Missouri                                     St. Louis   \n",
      "43      Pennsylvania                                    Pittsburgh   \n",
      "44          Virginia                                 Arlington, VA   \n",
      "46     Massachusetts                                        Boston   \n",
      "...              ...                                           ...   \n",
      "28050            NaN                                     Barcelona   \n",
      "28051        Alabama                                      Alabama    \n",
      "28052  Massachusetts  Boise-but remote. Company located in Boston    \n",
      "28058        Georgia                                       Atlanta   \n",
      "28060            NaN                                        Yangon   \n",
      "\n",
      "           total_yoe       field_yoe highest_education_completed      gender  \\\n",
      "1       8 - 10 years       5-7 years              College degree  Non-binary   \n",
      "8      21 - 30 years   21 - 30 years              College degree       Woman   \n",
      "43      8 - 10 years       5-7 years              College degree       Woman   \n",
      "44      8 - 10 years    8 - 10 years             Master's degree         Man   \n",
      "46         5-7 years       5-7 years                         PhD       Woman   \n",
      "...              ...             ...                         ...         ...   \n",
      "28050    2 - 4 years     2 - 4 years              College degree         Man   \n",
      "28051    2 - 4 years     2 - 4 years              College degree       Woman   \n",
      "28052   8 - 10 years    8 - 10 years             Master's degree       Woman   \n",
      "28058      5-7 years       5-7 years              College degree         Man   \n",
      "28060    2 - 4 years  1 year or less                Some college         Man   \n",
      "\n",
      "                                      race  \n",
      "1                                    White  \n",
      "8                                    White  \n",
      "43                                   White  \n",
      "44                                   White  \n",
      "46                                   White  \n",
      "...                                    ...  \n",
      "28050  Hispanic, Latino, or Spanish origin  \n",
      "28051            Black or African American  \n",
      "28052                                White  \n",
      "28058                                White  \n",
      "28060              Asian or Asian American  \n",
      "\n",
      "[4699 rows x 18 columns]\n"
     ]
    }
   ],
   "source": [
    "# Filtery filter. (Save it to a new variable, df_salary_tech.)\n",
    "df_salary_tech = df_salary[df_salary['industry'] == 'Computing or Tech']\n",
    "\n",
    "print(df_salary_tech)\n"
   ]
  },
  {
   "cell_type": "markdown",
   "metadata": {},
   "source": [
    "Do a sanity check to make sure that the only values you kept are the one you are filtered for.  "
   ]
  },
  {
   "cell_type": "code",
   "execution_count": 42,
   "metadata": {},
   "outputs": [
    {
     "name": "stdout",
     "output_type": "stream",
     "text": [
      "                timestamp    age           industry  \\\n",
      "1      4/27/2021 11:02:22  25-34  Computing or Tech   \n",
      "8      4/27/2021 11:03:01  45-54  Computing or Tech   \n",
      "43     4/27/2021 11:04:04  25-34  Computing or Tech   \n",
      "44     4/27/2021 11:04:04  25-34  Computing or Tech   \n",
      "46     4/27/2021 11:04:07  35-44  Computing or Tech   \n",
      "...                   ...    ...                ...   \n",
      "28050   7/1/2024 13:38:46  25-34  Computing or Tech   \n",
      "28051   7/1/2024 20:05:58  25-34  Computing or Tech   \n",
      "28052   7/3/2024 14:02:01  25-34  Computing or Tech   \n",
      "28058  7/23/2024 17:51:03  25-34  Computing or Tech   \n",
      "28060  7/26/2024 11:20:45  18-24  Computing or Tech   \n",
      "\n",
      "                                              title  \\\n",
      "1          Change & Internal Communications Manager   \n",
      "8                                   Systems Analyst   \n",
      "43                      Principal Software Engineer   \n",
      "44                             Intelligence Analyst   \n",
      "46                                 Mobile developer   \n",
      "...                                             ...   \n",
      "28050  Research & Systems Technician Data Analytics   \n",
      "28051                          Junior data analyst    \n",
      "28052        Senior Global Public Relations Manager   \n",
      "28058                             Systems Architect   \n",
      "28060                                            IT   \n",
      "\n",
      "                      title_context   salary  additional_compensation  \\\n",
      "1                               NaN   54,600                   4000.0   \n",
      "8      Data developer/ETL Developer  112,000                  10000.0   \n",
      "43                              NaN  187,500                   5000.0   \n",
      "44                              NaN  110,000                  20000.0   \n",
      "46                              NaN  144,600                   2500.0   \n",
      "...                             ...      ...                      ...   \n",
      "28050                           NaN    22000                      NaN   \n",
      "28051                           NaN    35000                  15000.0   \n",
      "28052                           NaN   144000                  15000.0   \n",
      "28058                           NaN   109000                      NaN   \n",
      "28060                           NaN     1700                     10.0   \n",
      "\n",
      "      currency other_currency                 salary_context         country  \\\n",
      "1          GBP            NaN                            NaN  United Kingdom   \n",
      "8          USD            NaN                            NaN              US   \n",
      "43         USD            NaN                            NaN   United States   \n",
      "44         USD            NaN  Around 20,000 a year in stock             USA   \n",
      "46         USD            NaN                            NaN             USA   \n",
      "...        ...            ...                            ...             ...   \n",
      "28050      EUR            NaN                            NaN           Spain   \n",
      "28051      USD            NaN                            NaN             Usa   \n",
      "28052      USD            NaN                            NaN             Usa   \n",
      "28058      USD            NaN                            NaN             USA   \n",
      "28060      USD            NaN                            NaN           Burma   \n",
      "\n",
      "               state                                          city  \\\n",
      "1                NaN                                     Cambridge   \n",
      "8           Missouri                                     St. Louis   \n",
      "43      Pennsylvania                                    Pittsburgh   \n",
      "44          Virginia                                 Arlington, VA   \n",
      "46     Massachusetts                                        Boston   \n",
      "...              ...                                           ...   \n",
      "28050            NaN                                     Barcelona   \n",
      "28051        Alabama                                      Alabama    \n",
      "28052  Massachusetts  Boise-but remote. Company located in Boston    \n",
      "28058        Georgia                                       Atlanta   \n",
      "28060            NaN                                        Yangon   \n",
      "\n",
      "           total_yoe       field_yoe highest_education_completed      gender  \\\n",
      "1       8 - 10 years       5-7 years              College degree  Non-binary   \n",
      "8      21 - 30 years   21 - 30 years              College degree       Woman   \n",
      "43      8 - 10 years       5-7 years              College degree       Woman   \n",
      "44      8 - 10 years    8 - 10 years             Master's degree         Man   \n",
      "46         5-7 years       5-7 years                         PhD       Woman   \n",
      "...              ...             ...                         ...         ...   \n",
      "28050    2 - 4 years     2 - 4 years              College degree         Man   \n",
      "28051    2 - 4 years     2 - 4 years              College degree       Woman   \n",
      "28052   8 - 10 years    8 - 10 years             Master's degree       Woman   \n",
      "28058      5-7 years       5-7 years              College degree         Man   \n",
      "28060    2 - 4 years  1 year or less                Some college         Man   \n",
      "\n",
      "                                      race  \n",
      "1                                    White  \n",
      "8                                    White  \n",
      "43                                   White  \n",
      "44                                   White  \n",
      "46                                   White  \n",
      "...                                    ...  \n",
      "28050  Hispanic, Latino, or Spanish origin  \n",
      "28051            Black or African American  \n",
      "28052                                White  \n",
      "28058                                White  \n",
      "28060              Asian or Asian American  \n",
      "\n",
      "[4699 rows x 18 columns]\n"
     ]
    }
   ],
   "source": [
    "# Sanity Check \n",
    "\n",
    "print(df_salary_tech)\n"
   ]
  },
  {
   "cell_type": "markdown",
   "metadata": {},
   "source": [
    "We are very interested in salary figures. But how many dollars 💵 is a euro 💶 or a pound 💷? That sounds like a problem for another day. 🫠\n",
    "\n",
    "For now, let’s just look at U.S. dollars (`'USD'`)."
   ]
  },
  {
   "cell_type": "code",
   "execution_count": 44,
   "metadata": {},
   "outputs": [
    {
     "name": "stdout",
     "output_type": "stream",
     "text": [
      "                timestamp    age           industry  \\\n",
      "8      4/27/2021 11:03:01  45-54  Computing or Tech   \n",
      "43     4/27/2021 11:04:04  25-34  Computing or Tech   \n",
      "44     4/27/2021 11:04:04  25-34  Computing or Tech   \n",
      "46     4/27/2021 11:04:07  35-44  Computing or Tech   \n",
      "47     4/27/2021 11:04:09  35-44  Computing or Tech   \n",
      "...                   ...    ...                ...   \n",
      "28044   6/3/2024 16:15:43  18-24  Computing or Tech   \n",
      "28051   7/1/2024 20:05:58  25-34  Computing or Tech   \n",
      "28052   7/3/2024 14:02:01  25-34  Computing or Tech   \n",
      "28058  7/23/2024 17:51:03  25-34  Computing or Tech   \n",
      "28060  7/26/2024 11:20:45  18-24  Computing or Tech   \n",
      "\n",
      "                                        title                 title_context  \\\n",
      "8                             Systems Analyst  Data developer/ETL Developer   \n",
      "43                Principal Software Engineer                           NaN   \n",
      "44                       Intelligence Analyst                           NaN   \n",
      "46                           Mobile developer                           NaN   \n",
      "47                    Product Design Director                           NaN   \n",
      "...                                       ...                           ...   \n",
      "28044         Research Data Analyst Associate                           NaN   \n",
      "28051                    Junior data analyst                            NaN   \n",
      "28052  Senior Global Public Relations Manager                           NaN   \n",
      "28058                       Systems Architect                           NaN   \n",
      "28060                                      IT                           NaN   \n",
      "\n",
      "        salary  additional_compensation currency other_currency  \\\n",
      "8      112,000                  10000.0      USD            NaN   \n",
      "43     187,500                   5000.0      USD            NaN   \n",
      "44     110,000                  20000.0      USD            NaN   \n",
      "46     144,600                   2500.0      USD            NaN   \n",
      "47     200,850                  40000.0      USD            NaN   \n",
      "...        ...                      ...      ...            ...   \n",
      "28044    60000                      0.0      USD            NaN   \n",
      "28051    35000                  15000.0      USD            NaN   \n",
      "28052   144000                  15000.0      USD            NaN   \n",
      "28058   109000                      NaN      USD            NaN   \n",
      "28060     1700                     10.0      USD            NaN   \n",
      "\n",
      "                      salary_context        country           state  \\\n",
      "8                                NaN             US        Missouri   \n",
      "43                               NaN  United States    Pennsylvania   \n",
      "44     Around 20,000 a year in stock            USA        Virginia   \n",
      "46                               NaN            USA   Massachusetts   \n",
      "47                               NaN            USA  North Carolina   \n",
      "...                              ...            ...             ...   \n",
      "28044                            NaN  United States        Illinois   \n",
      "28051                            NaN            Usa         Alabama   \n",
      "28052                            NaN            Usa   Massachusetts   \n",
      "28058                            NaN            USA         Georgia   \n",
      "28060                            NaN          Burma             NaN   \n",
      "\n",
      "                                               city      total_yoe  \\\n",
      "8                                         St. Louis  21 - 30 years   \n",
      "43                                       Pittsburgh   8 - 10 years   \n",
      "44                                    Arlington, VA   8 - 10 years   \n",
      "46                                           Boston      5-7 years   \n",
      "47                                      Chapel Hill  11 - 20 years   \n",
      "...                                             ...            ...   \n",
      "28044                                      Evanston    2 - 4 years   \n",
      "28051                                      Alabama     2 - 4 years   \n",
      "28052  Boise-but remote. Company located in Boston    8 - 10 years   \n",
      "28058                                       Atlanta      5-7 years   \n",
      "28060                                        Yangon    2 - 4 years   \n",
      "\n",
      "            field_yoe highest_education_completed gender  \\\n",
      "8       21 - 30 years              College degree  Woman   \n",
      "43          5-7 years              College degree  Woman   \n",
      "44       8 - 10 years             Master's degree    Man   \n",
      "46          5-7 years                         PhD  Woman   \n",
      "47      11 - 20 years              College degree  Woman   \n",
      "...               ...                         ...    ...   \n",
      "28044  1 year or less              College degree  Woman   \n",
      "28051     2 - 4 years              College degree  Woman   \n",
      "28052    8 - 10 years             Master's degree  Woman   \n",
      "28058       5-7 years              College degree    Man   \n",
      "28060  1 year or less                Some college    Man   \n",
      "\n",
      "                            race  \n",
      "8                          White  \n",
      "43                         White  \n",
      "44                         White  \n",
      "46                         White  \n",
      "47                         White  \n",
      "...                          ...  \n",
      "28044                      White  \n",
      "28051  Black or African American  \n",
      "28052                      White  \n",
      "28058                      White  \n",
      "28060    Asian or Asian American  \n",
      "\n",
      "[3777 rows x 18 columns]\n"
     ]
    }
   ],
   "source": [
    "# Filtery filter for just the jobs that pay in USD!\n",
    "\n",
    "df_salary_usd = df_salary_tech[df_salary_tech['currency'] == 'USD']\n",
    "\n",
    "print(df_salary_usd)"
   ]
  },
  {
   "cell_type": "markdown",
   "metadata": {},
   "source": [
    "What we really want know is how each U.S. city pays in tech. What value in `country` represents the United States of America?"
   ]
  },
  {
   "cell_type": "code",
   "execution_count": 45,
   "metadata": {},
   "outputs": [
    {
     "name": "stdout",
     "output_type": "stream",
     "text": [
      "country\n",
      "United States               1576\n",
      "USA                         1222\n",
      "US                           412\n",
      "U.S.                         108\n",
      "United States of America      90\n",
      "                            ... \n",
      "Pakistan                       1\n",
      "Puerto Rico                    1\n",
      "America                        1\n",
      "Uniyed states                  1\n",
      "Burma                          1\n",
      "Name: count, Length: 76, dtype: int64\n"
     ]
    }
   ],
   "source": [
    "# We did filter for USD, so if we do a count of each unique country in descending count order, the relevant value(s) should show up at the top.\n",
    "\n",
    "country_counts = df_salary_usd['country'].value_counts()\n",
    "\n",
    "print(country_counts)"
   ]
  },
  {
   "cell_type": "markdown",
   "metadata": {},
   "source": [
    "### Clean the Data\n",
    "\n",
    "Well, we can’t get our answers with what we currently have, so you’ll have to make some changes."
   ]
  },
  {
   "cell_type": "markdown",
   "metadata": {},
   "source": [
    "Let’s not worry about anything below the first 5 values for now. Convert the top 5 to a single canonical value―say, `'US'`, which is nice and short."
   ]
  },
  {
   "cell_type": "code",
   "execution_count": 48,
   "metadata": {},
   "outputs": [
    {
     "name": "stdout",
     "output_type": "stream",
     "text": [
      "country\n",
      "US                3408\n",
      "United States       68\n",
      "Usa                 59\n",
      "USA                 56\n",
      "usa                 28\n",
      "United states       23\n",
      "united states       14\n",
      "Us                  12\n",
      "us                   9\n",
      "U.S.A.               7\n",
      "Name: count, dtype: int64\n"
     ]
    },
    {
     "name": "stderr",
     "output_type": "stream",
     "text": [
      "/var/folders/5j/xjmzb8ms71s1xcbngys2vw9h0000gn/T/ipykernel_18230/1572346633.py:11: SettingWithCopyWarning: \n",
      "A value is trying to be set on a copy of a slice from a DataFrame.\n",
      "Try using .loc[row_indexer,col_indexer] = value instead\n",
      "\n",
      "See the caveats in the documentation: https://pandas.pydata.org/pandas-docs/stable/user_guide/indexing.html#returning-a-view-versus-a-copy\n",
      "  df_salary_usd['country'] = df_salary_usd['country'].replace(us_mapping)\n"
     ]
    },
    {
     "data": {
      "text/html": [
       "<div>\n",
       "<style scoped>\n",
       "    .dataframe tbody tr th:only-of-type {\n",
       "        vertical-align: middle;\n",
       "    }\n",
       "\n",
       "    .dataframe tbody tr th {\n",
       "        vertical-align: top;\n",
       "    }\n",
       "\n",
       "    .dataframe thead th {\n",
       "        text-align: right;\n",
       "    }\n",
       "</style>\n",
       "<table border=\"1\" class=\"dataframe\">\n",
       "  <thead>\n",
       "    <tr style=\"text-align: right;\">\n",
       "      <th></th>\n",
       "      <th>timestamp</th>\n",
       "      <th>age</th>\n",
       "      <th>industry</th>\n",
       "      <th>title</th>\n",
       "      <th>title_context</th>\n",
       "      <th>salary</th>\n",
       "      <th>additional_compensation</th>\n",
       "      <th>currency</th>\n",
       "      <th>other_currency</th>\n",
       "      <th>salary_context</th>\n",
       "      <th>country</th>\n",
       "      <th>state</th>\n",
       "      <th>city</th>\n",
       "      <th>total_yoe</th>\n",
       "      <th>field_yoe</th>\n",
       "      <th>highest_education_completed</th>\n",
       "      <th>gender</th>\n",
       "      <th>race</th>\n",
       "    </tr>\n",
       "  </thead>\n",
       "  <tbody>\n",
       "    <tr>\n",
       "      <th>8</th>\n",
       "      <td>4/27/2021 11:03:01</td>\n",
       "      <td>45-54</td>\n",
       "      <td>Computing or Tech</td>\n",
       "      <td>Systems Analyst</td>\n",
       "      <td>Data developer/ETL Developer</td>\n",
       "      <td>112,000</td>\n",
       "      <td>10000.0</td>\n",
       "      <td>USD</td>\n",
       "      <td>NaN</td>\n",
       "      <td>NaN</td>\n",
       "      <td>US</td>\n",
       "      <td>Missouri</td>\n",
       "      <td>St. Louis</td>\n",
       "      <td>21 - 30 years</td>\n",
       "      <td>21 - 30 years</td>\n",
       "      <td>College degree</td>\n",
       "      <td>Woman</td>\n",
       "      <td>White</td>\n",
       "    </tr>\n",
       "    <tr>\n",
       "      <th>43</th>\n",
       "      <td>4/27/2021 11:04:04</td>\n",
       "      <td>25-34</td>\n",
       "      <td>Computing or Tech</td>\n",
       "      <td>Principal Software Engineer</td>\n",
       "      <td>NaN</td>\n",
       "      <td>187,500</td>\n",
       "      <td>5000.0</td>\n",
       "      <td>USD</td>\n",
       "      <td>NaN</td>\n",
       "      <td>NaN</td>\n",
       "      <td>US</td>\n",
       "      <td>Pennsylvania</td>\n",
       "      <td>Pittsburgh</td>\n",
       "      <td>8 - 10 years</td>\n",
       "      <td>5-7 years</td>\n",
       "      <td>College degree</td>\n",
       "      <td>Woman</td>\n",
       "      <td>White</td>\n",
       "    </tr>\n",
       "    <tr>\n",
       "      <th>44</th>\n",
       "      <td>4/27/2021 11:04:04</td>\n",
       "      <td>25-34</td>\n",
       "      <td>Computing or Tech</td>\n",
       "      <td>Intelligence Analyst</td>\n",
       "      <td>NaN</td>\n",
       "      <td>110,000</td>\n",
       "      <td>20000.0</td>\n",
       "      <td>USD</td>\n",
       "      <td>NaN</td>\n",
       "      <td>Around 20,000 a year in stock</td>\n",
       "      <td>US</td>\n",
       "      <td>Virginia</td>\n",
       "      <td>Arlington, VA</td>\n",
       "      <td>8 - 10 years</td>\n",
       "      <td>8 - 10 years</td>\n",
       "      <td>Master's degree</td>\n",
       "      <td>Man</td>\n",
       "      <td>White</td>\n",
       "    </tr>\n",
       "    <tr>\n",
       "      <th>46</th>\n",
       "      <td>4/27/2021 11:04:07</td>\n",
       "      <td>35-44</td>\n",
       "      <td>Computing or Tech</td>\n",
       "      <td>Mobile developer</td>\n",
       "      <td>NaN</td>\n",
       "      <td>144,600</td>\n",
       "      <td>2500.0</td>\n",
       "      <td>USD</td>\n",
       "      <td>NaN</td>\n",
       "      <td>NaN</td>\n",
       "      <td>US</td>\n",
       "      <td>Massachusetts</td>\n",
       "      <td>Boston</td>\n",
       "      <td>5-7 years</td>\n",
       "      <td>5-7 years</td>\n",
       "      <td>PhD</td>\n",
       "      <td>Woman</td>\n",
       "      <td>White</td>\n",
       "    </tr>\n",
       "    <tr>\n",
       "      <th>47</th>\n",
       "      <td>4/27/2021 11:04:09</td>\n",
       "      <td>35-44</td>\n",
       "      <td>Computing or Tech</td>\n",
       "      <td>Product Design Director</td>\n",
       "      <td>NaN</td>\n",
       "      <td>200,850</td>\n",
       "      <td>40000.0</td>\n",
       "      <td>USD</td>\n",
       "      <td>NaN</td>\n",
       "      <td>NaN</td>\n",
       "      <td>US</td>\n",
       "      <td>North Carolina</td>\n",
       "      <td>Chapel Hill</td>\n",
       "      <td>11 - 20 years</td>\n",
       "      <td>11 - 20 years</td>\n",
       "      <td>College degree</td>\n",
       "      <td>Woman</td>\n",
       "      <td>White</td>\n",
       "    </tr>\n",
       "    <tr>\n",
       "      <th>...</th>\n",
       "      <td>...</td>\n",
       "      <td>...</td>\n",
       "      <td>...</td>\n",
       "      <td>...</td>\n",
       "      <td>...</td>\n",
       "      <td>...</td>\n",
       "      <td>...</td>\n",
       "      <td>...</td>\n",
       "      <td>...</td>\n",
       "      <td>...</td>\n",
       "      <td>...</td>\n",
       "      <td>...</td>\n",
       "      <td>...</td>\n",
       "      <td>...</td>\n",
       "      <td>...</td>\n",
       "      <td>...</td>\n",
       "      <td>...</td>\n",
       "      <td>...</td>\n",
       "    </tr>\n",
       "    <tr>\n",
       "      <th>28044</th>\n",
       "      <td>6/3/2024 16:15:43</td>\n",
       "      <td>18-24</td>\n",
       "      <td>Computing or Tech</td>\n",
       "      <td>Research Data Analyst Associate</td>\n",
       "      <td>NaN</td>\n",
       "      <td>60000</td>\n",
       "      <td>0.0</td>\n",
       "      <td>USD</td>\n",
       "      <td>NaN</td>\n",
       "      <td>NaN</td>\n",
       "      <td>US</td>\n",
       "      <td>Illinois</td>\n",
       "      <td>Evanston</td>\n",
       "      <td>2 - 4 years</td>\n",
       "      <td>1 year or less</td>\n",
       "      <td>College degree</td>\n",
       "      <td>Woman</td>\n",
       "      <td>White</td>\n",
       "    </tr>\n",
       "    <tr>\n",
       "      <th>28051</th>\n",
       "      <td>7/1/2024 20:05:58</td>\n",
       "      <td>25-34</td>\n",
       "      <td>Computing or Tech</td>\n",
       "      <td>Junior data analyst</td>\n",
       "      <td>NaN</td>\n",
       "      <td>35000</td>\n",
       "      <td>15000.0</td>\n",
       "      <td>USD</td>\n",
       "      <td>NaN</td>\n",
       "      <td>NaN</td>\n",
       "      <td>Usa</td>\n",
       "      <td>Alabama</td>\n",
       "      <td>Alabama</td>\n",
       "      <td>2 - 4 years</td>\n",
       "      <td>2 - 4 years</td>\n",
       "      <td>College degree</td>\n",
       "      <td>Woman</td>\n",
       "      <td>Black or African American</td>\n",
       "    </tr>\n",
       "    <tr>\n",
       "      <th>28052</th>\n",
       "      <td>7/3/2024 14:02:01</td>\n",
       "      <td>25-34</td>\n",
       "      <td>Computing or Tech</td>\n",
       "      <td>Senior Global Public Relations Manager</td>\n",
       "      <td>NaN</td>\n",
       "      <td>144000</td>\n",
       "      <td>15000.0</td>\n",
       "      <td>USD</td>\n",
       "      <td>NaN</td>\n",
       "      <td>NaN</td>\n",
       "      <td>Usa</td>\n",
       "      <td>Massachusetts</td>\n",
       "      <td>Boise-but remote. Company located in Boston</td>\n",
       "      <td>8 - 10 years</td>\n",
       "      <td>8 - 10 years</td>\n",
       "      <td>Master's degree</td>\n",
       "      <td>Woman</td>\n",
       "      <td>White</td>\n",
       "    </tr>\n",
       "    <tr>\n",
       "      <th>28058</th>\n",
       "      <td>7/23/2024 17:51:03</td>\n",
       "      <td>25-34</td>\n",
       "      <td>Computing or Tech</td>\n",
       "      <td>Systems Architect</td>\n",
       "      <td>NaN</td>\n",
       "      <td>109000</td>\n",
       "      <td>NaN</td>\n",
       "      <td>USD</td>\n",
       "      <td>NaN</td>\n",
       "      <td>NaN</td>\n",
       "      <td>US</td>\n",
       "      <td>Georgia</td>\n",
       "      <td>Atlanta</td>\n",
       "      <td>5-7 years</td>\n",
       "      <td>5-7 years</td>\n",
       "      <td>College degree</td>\n",
       "      <td>Man</td>\n",
       "      <td>White</td>\n",
       "    </tr>\n",
       "    <tr>\n",
       "      <th>28060</th>\n",
       "      <td>7/26/2024 11:20:45</td>\n",
       "      <td>18-24</td>\n",
       "      <td>Computing or Tech</td>\n",
       "      <td>IT</td>\n",
       "      <td>NaN</td>\n",
       "      <td>1700</td>\n",
       "      <td>10.0</td>\n",
       "      <td>USD</td>\n",
       "      <td>NaN</td>\n",
       "      <td>NaN</td>\n",
       "      <td>Burma</td>\n",
       "      <td>NaN</td>\n",
       "      <td>Yangon</td>\n",
       "      <td>2 - 4 years</td>\n",
       "      <td>1 year or less</td>\n",
       "      <td>Some college</td>\n",
       "      <td>Man</td>\n",
       "      <td>Asian or Asian American</td>\n",
       "    </tr>\n",
       "  </tbody>\n",
       "</table>\n",
       "<p>3777 rows × 18 columns</p>\n",
       "</div>"
      ],
      "text/plain": [
       "                timestamp    age           industry  \\\n",
       "8      4/27/2021 11:03:01  45-54  Computing or Tech   \n",
       "43     4/27/2021 11:04:04  25-34  Computing or Tech   \n",
       "44     4/27/2021 11:04:04  25-34  Computing or Tech   \n",
       "46     4/27/2021 11:04:07  35-44  Computing or Tech   \n",
       "47     4/27/2021 11:04:09  35-44  Computing or Tech   \n",
       "...                   ...    ...                ...   \n",
       "28044   6/3/2024 16:15:43  18-24  Computing or Tech   \n",
       "28051   7/1/2024 20:05:58  25-34  Computing or Tech   \n",
       "28052   7/3/2024 14:02:01  25-34  Computing or Tech   \n",
       "28058  7/23/2024 17:51:03  25-34  Computing or Tech   \n",
       "28060  7/26/2024 11:20:45  18-24  Computing or Tech   \n",
       "\n",
       "                                        title                 title_context  \\\n",
       "8                             Systems Analyst  Data developer/ETL Developer   \n",
       "43                Principal Software Engineer                           NaN   \n",
       "44                       Intelligence Analyst                           NaN   \n",
       "46                           Mobile developer                           NaN   \n",
       "47                    Product Design Director                           NaN   \n",
       "...                                       ...                           ...   \n",
       "28044         Research Data Analyst Associate                           NaN   \n",
       "28051                    Junior data analyst                            NaN   \n",
       "28052  Senior Global Public Relations Manager                           NaN   \n",
       "28058                       Systems Architect                           NaN   \n",
       "28060                                      IT                           NaN   \n",
       "\n",
       "        salary  additional_compensation currency other_currency  \\\n",
       "8      112,000                  10000.0      USD            NaN   \n",
       "43     187,500                   5000.0      USD            NaN   \n",
       "44     110,000                  20000.0      USD            NaN   \n",
       "46     144,600                   2500.0      USD            NaN   \n",
       "47     200,850                  40000.0      USD            NaN   \n",
       "...        ...                      ...      ...            ...   \n",
       "28044    60000                      0.0      USD            NaN   \n",
       "28051    35000                  15000.0      USD            NaN   \n",
       "28052   144000                  15000.0      USD            NaN   \n",
       "28058   109000                      NaN      USD            NaN   \n",
       "28060     1700                     10.0      USD            NaN   \n",
       "\n",
       "                      salary_context country           state  \\\n",
       "8                                NaN      US        Missouri   \n",
       "43                               NaN      US    Pennsylvania   \n",
       "44     Around 20,000 a year in stock      US        Virginia   \n",
       "46                               NaN      US   Massachusetts   \n",
       "47                               NaN      US  North Carolina   \n",
       "...                              ...     ...             ...   \n",
       "28044                            NaN      US        Illinois   \n",
       "28051                            NaN     Usa         Alabama   \n",
       "28052                            NaN     Usa   Massachusetts   \n",
       "28058                            NaN      US         Georgia   \n",
       "28060                            NaN   Burma             NaN   \n",
       "\n",
       "                                               city      total_yoe  \\\n",
       "8                                         St. Louis  21 - 30 years   \n",
       "43                                       Pittsburgh   8 - 10 years   \n",
       "44                                    Arlington, VA   8 - 10 years   \n",
       "46                                           Boston      5-7 years   \n",
       "47                                      Chapel Hill  11 - 20 years   \n",
       "...                                             ...            ...   \n",
       "28044                                      Evanston    2 - 4 years   \n",
       "28051                                      Alabama     2 - 4 years   \n",
       "28052  Boise-but remote. Company located in Boston    8 - 10 years   \n",
       "28058                                       Atlanta      5-7 years   \n",
       "28060                                        Yangon    2 - 4 years   \n",
       "\n",
       "            field_yoe highest_education_completed gender  \\\n",
       "8       21 - 30 years              College degree  Woman   \n",
       "43          5-7 years              College degree  Woman   \n",
       "44       8 - 10 years             Master's degree    Man   \n",
       "46          5-7 years                         PhD  Woman   \n",
       "47      11 - 20 years              College degree  Woman   \n",
       "...               ...                         ...    ...   \n",
       "28044  1 year or less              College degree  Woman   \n",
       "28051     2 - 4 years              College degree  Woman   \n",
       "28052    8 - 10 years             Master's degree  Woman   \n",
       "28058       5-7 years              College degree    Man   \n",
       "28060  1 year or less                Some college    Man   \n",
       "\n",
       "                            race  \n",
       "8                          White  \n",
       "43                         White  \n",
       "44                         White  \n",
       "46                         White  \n",
       "47                         White  \n",
       "...                          ...  \n",
       "28044                      White  \n",
       "28051  Black or African American  \n",
       "28052                      White  \n",
       "28058                      White  \n",
       "28060    Asian or Asian American  \n",
       "\n",
       "[3777 rows x 18 columns]"
      ]
     },
     "execution_count": 48,
     "metadata": {},
     "output_type": "execute_result"
    }
   ],
   "source": [
    "# Replace them all with 'US'.\n",
    "\n",
    "us_mapping = {\n",
    "    'United States': 'US',\n",
    "    'USA': 'US',\n",
    "    'US': 'US',\n",
    "    'U.S.': 'US',\n",
    "    'United States of America': 'US'\n",
    "}\n",
    "\n",
    "df_salary_usd['country'] = df_salary_usd['country'].replace(us_mapping)\n",
    "\n",
    "print(df_salary_usd['country'].value_counts().head(10))\n",
    "\n",
    "df_salary_usd"
   ]
  },
  {
   "cell_type": "markdown",
   "metadata": {},
   "source": [
    "Have a look at the count of each unique country again now."
   ]
  },
  {
   "cell_type": "code",
   "execution_count": 49,
   "metadata": {},
   "outputs": [
    {
     "name": "stdout",
     "output_type": "stream",
     "text": [
      "country\n",
      "US                3408\n",
      "United States       68\n",
      "Usa                 59\n",
      "USA                 56\n",
      "usa                 28\n",
      "United states       23\n",
      "united states       14\n",
      "Us                  12\n",
      "us                   9\n",
      "U.S.A.               7\n",
      "Name: count, dtype: int64\n"
     ]
    }
   ],
   "source": [
    "# Count again.\n",
    "\n",
    "print(df_salary_usd['country'].value_counts().head(10))"
   ]
  },
  {
   "cell_type": "markdown",
   "metadata": {},
   "source": [
    "Did you notice anything interesting?"
   ]
  },
  {
   "cell_type": "code",
   "execution_count": null,
   "metadata": {},
   "outputs": [],
   "source": [
    "# BONUS CREDIT: resolve [most of] those anomalous cases too without exhaustively taking every variant literally into account.\n",
    "\n"
   ]
  },
  {
   "cell_type": "code",
   "execution_count": null,
   "metadata": {},
   "outputs": [],
   "source": [
    "\n",
    "# BONUS CREDIT: if you’ve resolved it, let’s see how well you did by counting the number of instances of each unique value.\n",
    "\n"
   ]
  },
  {
   "cell_type": "markdown",
   "metadata": {},
   "source": [
    "It’s looking good so far. Let’s find out the minimum, mean, and maximum (in that order) salary by state, sorted by the mean in descending order."
   ]
  },
  {
   "cell_type": "code",
   "execution_count": 52,
   "metadata": {},
   "outputs": [
    {
     "name": "stdout",
     "output_type": "stream",
     "text": [
      "                                    min           mean       max\n",
      "state                                                           \n",
      "Alabama                         35000.0  117400.000000  350000.0\n",
      "Alabama, District of Columbia       NaN            NaN       NaN\n",
      "Alabama, Montana                    NaN            NaN       NaN\n",
      "Alaska                              NaN            NaN       NaN\n",
      "Arizona                         35000.0   97833.333333  145000.0\n",
      "...                                 ...            ...       ...\n",
      "Vermont                         91250.0  105625.000000  120000.0\n",
      "Virginia                        58750.0  115086.696970  378000.0\n",
      "Washington                         72.0  136923.916667  300000.0\n",
      "West Virginia                  120000.0  120000.000000  120000.0\n",
      "Wisconsin                           1.0  145806.888889  920000.0\n",
      "\n",
      "[66 rows x 3 columns]\n"
     ]
    }
   ],
   "source": [
    "# Find the minimum, mean, and maximum salary in USD by U.S. state.\n",
    "\n",
    "salary_stats_by_state = df_salary_usd.groupby('state')['salary'].agg(['min', 'mean', 'max'])\n",
    "\n",
    "print(salary_stats_by_state)"
   ]
  },
  {
   "cell_type": "markdown",
   "metadata": {},
   "source": [
    "Well, pooh! We forgot that `salary` isn’t numeric. Something wrong must be fixed."
   ]
  },
  {
   "cell_type": "code",
   "execution_count": 53,
   "metadata": {},
   "outputs": [
    {
     "name": "stdout",
     "output_type": "stream",
     "text": [
      "8    NaN\n",
      "43   NaN\n",
      "44   NaN\n",
      "46   NaN\n",
      "47   NaN\n",
      "Name: salary, dtype: float64\n"
     ]
    },
    {
     "name": "stderr",
     "output_type": "stream",
     "text": [
      "/var/folders/5j/xjmzb8ms71s1xcbngys2vw9h0000gn/T/ipykernel_18230/549462897.py:3: SettingWithCopyWarning: \n",
      "A value is trying to be set on a copy of a slice from a DataFrame.\n",
      "Try using .loc[row_indexer,col_indexer] = value instead\n",
      "\n",
      "See the caveats in the documentation: https://pandas.pydata.org/pandas-docs/stable/user_guide/indexing.html#returning-a-view-versus-a-copy\n",
      "  df_salary_usd['salary'] = df_salary_usd['salary'].replace({'\\$': '', ',': ''}, regex=True)\n",
      "/var/folders/5j/xjmzb8ms71s1xcbngys2vw9h0000gn/T/ipykernel_18230/549462897.py:6: SettingWithCopyWarning: \n",
      "A value is trying to be set on a copy of a slice from a DataFrame.\n",
      "Try using .loc[row_indexer,col_indexer] = value instead\n",
      "\n",
      "See the caveats in the documentation: https://pandas.pydata.org/pandas-docs/stable/user_guide/indexing.html#returning-a-view-versus-a-copy\n",
      "  df_salary_usd['salary'] = pd.to_numeric(df_salary_usd['salary'], errors='coerce')\n"
     ]
    }
   ],
   "source": [
    "# Fix it.\n",
    "\n",
    "df_salary_usd['salary'] = df_salary_usd['salary'].replace({'\\$': '', ',': ''}, regex=True)\n",
    "\n",
    "df_salary_usd['salary'] = pd.to_numeric(df_salary_usd['salary'], errors='coerce')\n",
    "\n",
    "print(df_salary_usd['salary'].head())"
   ]
  },
  {
   "cell_type": "markdown",
   "metadata": {},
   "source": [
    "Let’s try that again."
   ]
  },
  {
   "cell_type": "code",
   "execution_count": 54,
   "metadata": {},
   "outputs": [
    {
     "name": "stdout",
     "output_type": "stream",
     "text": [
      "                                    min           mean       max\n",
      "state                                                           \n",
      "Alabama                         35000.0  117400.000000  350000.0\n",
      "Alabama, District of Columbia       NaN            NaN       NaN\n",
      "Alabama, Montana                    NaN            NaN       NaN\n",
      "Alaska                              NaN            NaN       NaN\n",
      "Arizona                         35000.0   97833.333333  145000.0\n",
      "...                                 ...            ...       ...\n",
      "Vermont                         91250.0  105625.000000  120000.0\n",
      "Virginia                        58750.0  115086.696970  378000.0\n",
      "Washington                         72.0  136923.916667  300000.0\n",
      "West Virginia                  120000.0  120000.000000  120000.0\n",
      "Wisconsin                           1.0  145806.888889  920000.0\n",
      "\n",
      "[66 rows x 3 columns]\n"
     ]
    }
   ],
   "source": [
    "# Try it again. Yeah!\n",
    "print(salary_stats_by_state)\n"
   ]
  },
  {
   "cell_type": "markdown",
   "metadata": {},
   "source": [
    "That did the trick! Now let’s narrow this to data 2021 and 2022 just because (lel). *(Hint: that timestamp column may not be a temporal type right now.)*"
   ]
  },
  {
   "cell_type": "code",
   "execution_count": 56,
   "metadata": {},
   "outputs": [
    {
     "name": "stdout",
     "output_type": "stream",
     "text": [
      "                timestamp    age           industry  \\\n",
      "8     2021-04-27 11:03:01  45-54  Computing or Tech   \n",
      "43    2021-04-27 11:04:04  25-34  Computing or Tech   \n",
      "44    2021-04-27 11:04:04  25-34  Computing or Tech   \n",
      "46    2021-04-27 11:04:07  35-44  Computing or Tech   \n",
      "47    2021-04-27 11:04:09  35-44  Computing or Tech   \n",
      "...                   ...    ...                ...   \n",
      "27960 2023-05-09 17:57:30  45-54  Computing or Tech   \n",
      "27961 2023-05-28 16:10:53  45-54  Computing or Tech   \n",
      "27971 2023-08-08 07:12:10  25-34  Computing or Tech   \n",
      "27975 2023-09-08 12:35:45  18-24  Computing or Tech   \n",
      "27989 2023-10-26 08:17:05  18-24  Computing or Tech   \n",
      "\n",
      "                             title                 title_context   salary  \\\n",
      "8                  Systems Analyst  Data developer/ETL Developer      NaN   \n",
      "43     Principal Software Engineer                           NaN      NaN   \n",
      "44            Intelligence Analyst                           NaN      NaN   \n",
      "46                Mobile developer                           NaN      NaN   \n",
      "47         Product Design Director                           NaN      NaN   \n",
      "...                            ...                           ...      ...   \n",
      "27960          Junior Data Analyst                           NaN  65000.0   \n",
      "27961                 Data Analyst                           NaN  65000.0   \n",
      "27971               Data scientist                           NaN    500.0   \n",
      "27975                       intern                           NaN  35000.0   \n",
      "27989                      Ibterb                            NaN    456.0   \n",
      "\n",
      "       additional_compensation currency other_currency  \\\n",
      "8                      10000.0      USD            NaN   \n",
      "43                      5000.0      USD            NaN   \n",
      "44                     20000.0      USD            NaN   \n",
      "46                      2500.0      USD            NaN   \n",
      "47                     40000.0      USD            NaN   \n",
      "...                        ...      ...            ...   \n",
      "27960                      0.0      USD            NaN   \n",
      "27961                      0.0      USD            NaN   \n",
      "27971                      NaN      USD            NaN   \n",
      "27975                      0.0      USD            NaN   \n",
      "27989                      NaN      USD            NaN   \n",
      "\n",
      "                      salary_context   country           state           city  \\\n",
      "8                                NaN        US        Missouri      St. Louis   \n",
      "43                               NaN        US    Pennsylvania     Pittsburgh   \n",
      "44     Around 20,000 a year in stock        US        Virginia  Arlington, VA   \n",
      "46                               NaN        US   Massachusetts         Boston   \n",
      "47                               NaN        US  North Carolina    Chapel Hill   \n",
      "...                              ...       ...             ...            ...   \n",
      "27960                            NaN        US        Virginia       Richmond   \n",
      "27961                            NaN        US        New York          Bronx   \n",
      "27971                            NaN     Ghana             NaN          Accra   \n",
      "27975                            NaN        US           Texas         Dallas   \n",
      "27989                            NaN  Nigeria              NaN          Lagos   \n",
      "\n",
      "            total_yoe       field_yoe highest_education_completed gender  \\\n",
      "8       21 - 30 years   21 - 30 years              College degree  Woman   \n",
      "43       8 - 10 years       5-7 years              College degree  Woman   \n",
      "44       8 - 10 years    8 - 10 years             Master's degree    Man   \n",
      "46          5-7 years       5-7 years                         PhD  Woman   \n",
      "47      11 - 20 years   11 - 20 years              College degree  Woman   \n",
      "...               ...             ...                         ...    ...   \n",
      "27960   21 - 30 years  1 year or less              College degree    Man   \n",
      "27961   21 - 30 years    8 - 10 years              College degree    Man   \n",
      "27971     2 - 4 years     2 - 4 years              College degree    Man   \n",
      "27975  1 year or less  1 year or less             Master's degree    Man   \n",
      "27989     2 - 4 years     2 - 4 years              College degree    Man   \n",
      "\n",
      "                                                    race  \n",
      "8                                                  White  \n",
      "43                                                 White  \n",
      "44                                                 White  \n",
      "46                                                 White  \n",
      "47                                                 White  \n",
      "...                                                  ...  \n",
      "27960                                              White  \n",
      "27961                          Black or African American  \n",
      "27971                          Black or African American  \n",
      "27975                            Asian or Asian American  \n",
      "27989  Another option not listed here or prefer not t...  \n",
      "\n",
      "[3764 rows x 18 columns]\n"
     ]
    },
    {
     "name": "stderr",
     "output_type": "stream",
     "text": [
      "/var/folders/5j/xjmzb8ms71s1xcbngys2vw9h0000gn/T/ipykernel_18230/2652158851.py:3: SettingWithCopyWarning: \n",
      "A value is trying to be set on a copy of a slice from a DataFrame.\n",
      "Try using .loc[row_indexer,col_indexer] = value instead\n",
      "\n",
      "See the caveats in the documentation: https://pandas.pydata.org/pandas-docs/stable/user_guide/indexing.html#returning-a-view-versus-a-copy\n",
      "  df_salary_usd['timestamp'] = pd.to_datetime(df_salary_usd['timestamp'], errors='coerce')\n"
     ]
    }
   ],
   "source": [
    "# Filter the data to within 2021, 2022, or 2023, saving the DataFrame to a new variable, and generate the summary again.\n",
    "\n",
    "df_salary_usd['timestamp'] = pd.to_datetime(df_salary_usd['timestamp'], errors='coerce')\n",
    "\n",
    "df_filtered = df_salary_usd[df_salary_usd['timestamp'].dt.year.isin([2021, 2022, 2023])]\n",
    "\n",
    "print(df_filtered)"
   ]
  },
  {
   "cell_type": "markdown",
   "metadata": {},
   "source": [
    "## Bonus\n",
    "\n",
    "Clearly, we do not have enough data to produce useful figures for the level of specificity you’ve now reached. What do you notice about Delaware and West Virginia?\n",
    "\n",
    "Let’s back out a bit and return to `df_salary` (which was the loaded data with renamed columns but *sans* filtering)."
   ]
  },
  {
   "cell_type": "markdown",
   "metadata": {},
   "source": [
    "### Bonus #0\n",
    "\n",
    "Apply the same steps as before to `df_salary`, but do not filter for any specific industry. Do perform the other data cleaning stuff, and get to a point where you can generate the minimum, mean, and maximum by state."
   ]
  },
  {
   "cell_type": "code",
   "execution_count": null,
   "metadata": {},
   "outputs": [],
   "source": []
  },
  {
   "cell_type": "markdown",
   "metadata": {},
   "source": [
    "### Bonus #1\n",
    "\n",
    "This time, format the table output nicely (*$12,345.00*) without modifying the values in the `DataFrame`. That is, `df_salary` should be identical before versus after running your code.\n",
    "\n",
    "(*Hint: if you run into an error about `jinja2` perhaps you need to `pip install` something.*)"
   ]
  },
  {
   "cell_type": "code",
   "execution_count": null,
   "metadata": {},
   "outputs": [],
   "source": []
  },
  {
   "cell_type": "markdown",
   "metadata": {},
   "source": [
    "### Bonus #2\n",
    "\n",
    "Filter out the non-single-states (e.g., `'California, Colorado'`) in the most elegant way possible (i.e., *not* by blacklisting all the bad values)."
   ]
  },
  {
   "cell_type": "code",
   "execution_count": null,
   "metadata": {},
   "outputs": [],
   "source": []
  },
  {
   "cell_type": "markdown",
   "metadata": {},
   "source": [
    "### Bonus #3\n",
    "\n",
    "Show the quantiles instead of just minimum, mean, and maximum―say 0%, 5%, 25%, 50%, 75%, 95%, and 100%. Outliers may be deceiving.\n",
    "\n",
    "Sort by whatever interests you―like say the *50th* percentile.\n",
    "\n",
    "And throw in a count by state too. It would be interesting to know how many data points contribute to the figures for each state. (*Hint: your nice formatting from Bonus #1 might not work this time around.* 😜)"
   ]
  },
  {
   "cell_type": "code",
   "execution_count": null,
   "metadata": {},
   "outputs": [],
   "source": []
  }
 ],
 "metadata": {
  "kernelspec": {
   "display_name": "Python 3",
   "language": "python",
   "name": "python3"
  },
  "language_info": {
   "codemirror_mode": {
    "name": "ipython",
    "version": 3
   },
   "file_extension": ".py",
   "mimetype": "text/x-python",
   "name": "python",
   "nbconvert_exporter": "python",
   "pygments_lexer": "ipython3",
   "version": "3.11.5"
  }
 },
 "nbformat": 4,
 "nbformat_minor": 2
}
